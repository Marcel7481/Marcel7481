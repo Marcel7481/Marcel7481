{
 "cells": [
  {
   "cell_type": "code",
   "execution_count": 105,
   "id": "initial_id",
   "metadata": {
    "collapsed": true,
    "ExecuteTime": {
     "end_time": "2024-04-11T01:34:40.906360700Z",
     "start_time": "2024-04-11T01:34:40.894351300Z"
    }
   },
   "outputs": [],
   "source": [
    "import torch"
   ]
  },
  {
   "cell_type": "code",
   "execution_count": 106,
   "outputs": [
    {
     "data": {
      "text/plain": "tensor([[-4.8498e-27,  7.7632e-43,  0.0000e+00],\n        [ 2.0000e+00,  0.0000e+00,  2.0000e+00],\n        [ 0.0000e+00,  2.0000e+00,  0.0000e+00],\n        [ 2.0000e+00,  0.0000e+00,  2.0000e+00],\n        [ 0.0000e+00,  2.0000e+00,  0.0000e+00]])"
     },
     "execution_count": 106,
     "metadata": {},
     "output_type": "execute_result"
    }
   ],
   "source": [
    "x=torch.empty(5,3)\n",
    "x"
   ],
   "metadata": {
    "collapsed": false,
    "ExecuteTime": {
     "end_time": "2024-04-11T01:34:40.910364200Z",
     "start_time": "2024-04-11T01:34:40.896673400Z"
    }
   },
   "id": "79cfe09d6b43c62e"
  },
  {
   "cell_type": "code",
   "execution_count": 107,
   "outputs": [
    {
     "data": {
      "text/plain": "tensor([[0., 0., 0.],\n        [0., 0., 0.],\n        [0., 0., 0.],\n        [0., 0., 0.],\n        [0., 0., 0.]])"
     },
     "execution_count": 107,
     "metadata": {},
     "output_type": "execute_result"
    }
   ],
   "source": [
    "x=torch.zeros(5,3)\n",
    "x"
   ],
   "metadata": {
    "collapsed": false,
    "ExecuteTime": {
     "end_time": "2024-04-11T01:34:40.915009800Z",
     "start_time": "2024-04-11T01:34:40.906360700Z"
    }
   },
   "id": "d79c6b26dab9912f"
  },
  {
   "cell_type": "code",
   "execution_count": 108,
   "outputs": [
    {
     "name": "stdout",
     "output_type": "stream",
     "text": [
      "tensor([[2., 2., 2.],\n",
      "        [2., 2., 2.],\n",
      "        [2., 2., 2.],\n",
      "        [2., 2., 2.],\n",
      "        [2., 2., 2.]])\n"
     ]
    }
   ],
   "source": [
    "y=torch.ones_like(x)\n",
    "print(x+y+1)"
   ],
   "metadata": {
    "collapsed": false,
    "ExecuteTime": {
     "end_time": "2024-04-11T01:34:40.920778Z",
     "start_time": "2024-04-11T01:34:40.914010Z"
    }
   },
   "id": "73fc366c2ef72280"
  },
  {
   "cell_type": "code",
   "execution_count": 109,
   "outputs": [
    {
     "data": {
      "text/plain": "tensor([[0., 0., 0., 0., 0.],\n        [0., 0., 0., 0., 0.],\n        [0., 0., 0., 0., 0.]])"
     },
     "execution_count": 109,
     "metadata": {},
     "output_type": "execute_result"
    }
   ],
   "source": [
    "z=x.view(3,5)\n",
    "z"
   ],
   "metadata": {
    "collapsed": false,
    "ExecuteTime": {
     "end_time": "2024-04-11T01:34:40.951120600Z",
     "start_time": "2024-04-11T01:34:40.921776700Z"
    }
   },
   "id": "ebeda8a210ed53b7"
  },
  {
   "cell_type": "code",
   "execution_count": 110,
   "outputs": [
    {
     "name": "stdout",
     "output_type": "stream",
     "text": [
      "tensor([[1., 1., 1.],\n",
      "        [1., 1., 1.],\n",
      "        [1., 1., 1.],\n",
      "        [1., 1., 1.],\n",
      "        [1., 1., 1.]])\n",
      "tensor([[1., 1., 1., 1., 1.],\n",
      "        [1., 1., 1., 1., 1.],\n",
      "        [1., 1., 1., 1., 1.]])\n"
     ]
    }
   ],
   "source": [
    "z+=1\n",
    "print(x)\n",
    "print(z)"
   ],
   "metadata": {
    "collapsed": false,
    "ExecuteTime": {
     "end_time": "2024-04-11T01:34:40.951120600Z",
     "start_time": "2024-04-11T01:34:40.928234800Z"
    }
   },
   "id": "abdb4849f01713b8"
  },
  {
   "cell_type": "code",
   "execution_count": 111,
   "outputs": [
    {
     "name": "stdout",
     "output_type": "stream",
     "text": [
      "tensor([2., 2., 2., 2., 2., 2., 2., 2., 2., 2., 2., 2., 2., 2., 2.])\n",
      "tensor([[1., 1., 1.],\n",
      "        [1., 1., 1.],\n",
      "        [1., 1., 1.],\n",
      "        [1., 1., 1.],\n",
      "        [1., 1., 1.]])\n"
     ]
    }
   ],
   "source": [
    "a=x.clone().view(15)\n",
    "a+=1\n",
    "print(a)\n",
    "print(x)"
   ],
   "metadata": {
    "collapsed": false,
    "ExecuteTime": {
     "end_time": "2024-04-11T01:34:40.951120600Z",
     "start_time": "2024-04-11T01:34:40.935308900Z"
    }
   },
   "id": "62e90707644c97c3"
  },
  {
   "cell_type": "code",
   "execution_count": 112,
   "outputs": [
    {
     "name": "stdout",
     "output_type": "stream",
     "text": [
      "tensor([0.7392])\n",
      "0.7391830682754517\n"
     ]
    }
   ],
   "source": [
    "x=torch.randn(1)\n",
    "print(x)\n",
    "print(x.item())"
   ],
   "metadata": {
    "collapsed": false,
    "ExecuteTime": {
     "end_time": "2024-04-11T01:34:40.951120600Z",
     "start_time": "2024-04-11T01:34:40.943082Z"
    }
   },
   "id": "f9c5157188eaac32"
  },
  {
   "cell_type": "code",
   "execution_count": 113,
   "outputs": [
    {
     "name": "stdout",
     "output_type": "stream",
     "text": [
      "True\n"
     ]
    }
   ],
   "source": [
    "print(torch.cuda.is_available())"
   ],
   "metadata": {
    "collapsed": false,
    "ExecuteTime": {
     "end_time": "2024-04-11T01:34:40.961278500Z",
     "start_time": "2024-04-11T01:34:40.950120700Z"
    }
   },
   "id": "1c74f55cc24a6e90"
  },
  {
   "cell_type": "code",
   "execution_count": 114,
   "outputs": [
    {
     "name": "stdout",
     "output_type": "stream",
     "text": [
      "tensor([[1., 1.],\n",
      "        [1., 1.]], requires_grad=True)\n",
      "None\n"
     ]
    }
   ],
   "source": [
    "x=torch.ones(2,2,requires_grad=True)\n",
    "print(x)\n",
    "print(x.grad_fn)"
   ],
   "metadata": {
    "collapsed": false,
    "ExecuteTime": {
     "end_time": "2024-04-11T01:34:40.967063400Z",
     "start_time": "2024-04-11T01:34:40.958278800Z"
    }
   },
   "id": "f11cb3ead34cec26"
  },
  {
   "cell_type": "code",
   "execution_count": 115,
   "outputs": [
    {
     "name": "stdout",
     "output_type": "stream",
     "text": [
      "<MulBackward0 object at 0x00000283CFBF0070>\n",
      "<AddBackward0 object at 0x00000283CFBF22F0>\n"
     ]
    }
   ],
   "source": [
    "y=x*2\n",
    "z=x+2\n",
    "print(y.grad_fn)\n",
    "print(z.grad_fn)"
   ],
   "metadata": {
    "collapsed": false,
    "ExecuteTime": {
     "end_time": "2024-04-11T01:34:40.973553Z",
     "start_time": "2024-04-11T01:34:40.966063500Z"
    }
   },
   "id": "6cc917a54c308b1e"
  },
  {
   "cell_type": "code",
   "execution_count": 116,
   "outputs": [
    {
     "name": "stdout",
     "output_type": "stream",
     "text": [
      "tensor(27., grad_fn=<MeanBackward0>)\n"
     ]
    }
   ],
   "source": [
    "zz=z*z*3\n",
    "out=zz.mean()\n",
    "print(out)\n"
   ],
   "metadata": {
    "collapsed": false,
    "ExecuteTime": {
     "end_time": "2024-04-11T01:34:40.981261900Z",
     "start_time": "2024-04-11T01:34:40.972552600Z"
    }
   },
   "id": "9bf7cf66df87fbbd"
  },
  {
   "cell_type": "code",
   "execution_count": 117,
   "outputs": [],
   "source": [
    "out.backward()"
   ],
   "metadata": {
    "collapsed": false,
    "ExecuteTime": {
     "end_time": "2024-04-11T01:34:41.030629700Z",
     "start_time": "2024-04-11T01:34:40.980261600Z"
    }
   },
   "id": "ba6a29cbd652cd20"
  },
  {
   "cell_type": "code",
   "execution_count": 118,
   "outputs": [],
   "source": [
    "y.mean().backward()"
   ],
   "metadata": {
    "collapsed": false,
    "ExecuteTime": {
     "end_time": "2024-04-11T01:34:41.040622600Z",
     "start_time": "2024-04-11T01:34:40.987928200Z"
    }
   },
   "id": "28c4787219311cb4"
  },
  {
   "cell_type": "code",
   "execution_count": 119,
   "outputs": [
    {
     "name": "stdout",
     "output_type": "stream",
     "text": [
      "tensor([[5., 5.],\n",
      "        [5., 5.]])\n"
     ]
    }
   ],
   "source": [
    "print(x.grad)"
   ],
   "metadata": {
    "collapsed": false,
    "ExecuteTime": {
     "end_time": "2024-04-11T01:34:41.040622600Z",
     "start_time": "2024-04-11T01:34:40.993884700Z"
    }
   },
   "id": "629528ccbb01172f"
  },
  {
   "cell_type": "code",
   "execution_count": 120,
   "outputs": [
    {
     "data": {
      "text/plain": "tensor([[0., 0.],\n        [0., 0.]])"
     },
     "execution_count": 120,
     "metadata": {},
     "output_type": "execute_result"
    }
   ],
   "source": [
    "x.grad.data.zero_()"
   ],
   "metadata": {
    "collapsed": false,
    "ExecuteTime": {
     "end_time": "2024-04-11T01:34:41.041623800Z",
     "start_time": "2024-04-11T01:34:41.001180900Z"
    }
   },
   "id": "8a6a14878d2ac903"
  },
  {
   "cell_type": "code",
   "execution_count": 129,
   "outputs": [
    {
     "data": {
      "text/plain": "tensor([[1, 1],\n        [2, 2],\n        [3, 3]], dtype=torch.int32)"
     },
     "execution_count": 129,
     "metadata": {},
     "output_type": "execute_result"
    }
   ],
   "source": [
    "import numpy as np\n",
    "a=torch.from_numpy(np.array([[1,1],[2,2],[3,3]]))\n",
    "a"
   ],
   "metadata": {
    "collapsed": false,
    "ExecuteTime": {
     "end_time": "2024-04-11T02:10:44.674504700Z",
     "start_time": "2024-04-11T02:10:44.667744200Z"
    }
   },
   "id": "7fca2f3c7faeaa9a"
  },
  {
   "cell_type": "code",
   "execution_count": 136,
   "outputs": [
    {
     "name": "stdout",
     "output_type": "stream",
     "text": [
      "tensor([6, 6])\n",
      "tensor([2, 4, 6])\n",
      "tensor(12)\n",
      "tensor([[6, 6]])\n"
     ]
    }
   ],
   "source": [
    "aa=a.sum(axis=0)\n",
    "print(aa)\n",
    "bb=a.sum(axis=1)\n",
    "print(bb)\n",
    "sum=a.sum(axis=[0,1])\n",
    "print(sum)\n",
    "aa2=a.sum(axis=0,keepdim=True)\n",
    "print(aa2)"
   ],
   "metadata": {
    "collapsed": false,
    "ExecuteTime": {
     "end_time": "2024-04-11T02:14:17.011407800Z",
     "start_time": "2024-04-11T02:14:17.005015300Z"
    }
   },
   "id": "ba55407da0ae98e1"
  },
  {
   "cell_type": "code",
   "execution_count": 140,
   "outputs": [
    {
     "name": "stdout",
     "output_type": "stream",
     "text": [
      "tensor([1, 1], dtype=torch.int32)\n",
      "tensor([2, 3], dtype=torch.int32)\n",
      "tensor(5, dtype=torch.int32)\n"
     ]
    }
   ],
   "source": [
    "b=torch.from_numpy(np.array([1,1]))\n",
    "c=torch.from_numpy(np.array([2,3]))\n",
    "print(b)\n",
    "print(c)\n",
    "print(torch.dot(b,c))\n"
   ],
   "metadata": {
    "collapsed": false,
    "ExecuteTime": {
     "end_time": "2024-04-11T02:17:09.445739500Z",
     "start_time": "2024-04-11T02:17:09.436186300Z"
    }
   },
   "id": "d6d45c0ebbb0aee2"
  },
  {
   "cell_type": "code",
   "execution_count": 143,
   "outputs": [
    {
     "name": "stdout",
     "output_type": "stream",
     "text": [
      "tensor([[[ 0,  1,  2,  3],\n",
      "         [ 4,  5,  6,  7],\n",
      "         [ 8,  9, 10, 11]],\n",
      "\n",
      "        [[12, 13, 14, 15],\n",
      "         [16, 17, 18, 19],\n",
      "         [20, 21, 22, 23]]])\n",
      "torch.Size([3, 4])\n",
      "torch.Size([2, 4])\n",
      "torch.Size([2, 3])\n"
     ]
    }
   ],
   "source": [
    "x=torch.arange(24).reshape(2,3,4)\n",
    "print(x)\n",
    "print(x.sum(axis=0).shape)\n",
    "print(x.sum(axis=1).shape)\n",
    "print(x.sum(axis=2).shape)"
   ],
   "metadata": {
    "collapsed": false,
    "ExecuteTime": {
     "end_time": "2024-04-11T02:24:16.436170300Z",
     "start_time": "2024-04-11T02:24:16.418193900Z"
    }
   },
   "id": "6d6309119322a8f7"
  },
  {
   "cell_type": "code",
   "execution_count": 148,
   "outputs": [
    {
     "data": {
      "text/plain": "<Figure size 640x480 with 1 Axes>",
      "image/png": "[encoded data removed]"
     },
     "metadata": {},
     "output_type": "display_data"
    }
   ],
   "source": [
    "import numpy as np\n",
    "import matplotlib.pyplot as plt\n",
    "\n",
    "# 定义函数和导函数\n",
    "def f(x):\n",
    "    return x**3 - 1/x\n",
    "\n",
    "def f_prime(x):\n",
    "    return 3*x**2 + 1/x**2\n",
    "\n",
    "# 计算 x = 1 处的函数值和导数值\n",
    "x = 1\n",
    "f_at_x = f(x)\n",
    "slope_at_x = f_prime(x)\n",
    "\n",
    "# 定义切线的斜率和截距\n",
    "slope = slope_at_x\n",
    "intercept = f_at_x - slope * x\n",
    "\n",
    "# 定义切线上的 x 值\n",
    "x_values = np.linspace(0.5, 1.5, 100)\n",
    "# 计算切线上对应的 y 值\n",
    "y_values = slope * x_values + intercept\n",
    "\n",
    "# 绘制函数曲线\n",
    "x_range = np.linspace(0.5, 1.5, 400)\n",
    "plt.plot(x_range, f(x_range), label='f(x) = x^3 - 1/x')\n",
    "\n",
    "# 绘制切线\n",
    "plt.plot(x_values, y_values, 'r--', label='Tangent line at x=1')\n",
    "\n",
    "# 标记切点和切线斜率\n",
    "plt.scatter(x, f_at_x, color='black', label='Point (1, f(1))')\n",
    "plt.text(1.05, f_at_x - 0.5, f\"Slope = {slope_at_x:.2f}\", fontsize=10)\n",
    "\n",
    "# 添加标签和图例\n",
    "plt.xlabel('x')\n",
    "plt.ylabel('y')\n",
    "plt.title('Tangent Line at x=1')\n",
    "plt.legend()\n",
    "\n",
    "# 显示图形\n",
    "plt.grid(True)\n",
    "plt.show()\n"
   ],
   "metadata": {
    "collapsed": false,
    "ExecuteTime": {
     "end_time": "2024-04-11T02:42:11.089005800Z",
     "start_time": "2024-04-11T02:42:10.832143200Z"
    }
   },
   "id": "b63e6c9a8495ac74"
  }
 ],
 "metadata": {
  "kernelspec": {
   "display_name": "Python 3",
   "language": "python",
   "name": "python3"
  },
  "language_info": {
   "codemirror_mode": {
    "name": "ipython",
    "version": 2
   },
   "file_extension": ".py",
   "mimetype": "text/x-python",
   "name": "python",
   "nbconvert_exporter": "python",
   "pygments_lexer": "ipython2",
   "version": "2.7.6"
  }
 },
 "nbformat": 4,
 "nbformat_minor": 5
}
