{
 "cells": [
  {
   "cell_type": "markdown",
   "source": [],
   "metadata": {
    "collapsed": false
   },
   "id": "c1199cb62a0dfc65"
  },
  {
   "cell_type": "code",
   "execution_count": 34,
   "outputs": [],
   "source": [
    "from torch.utils.data import Dataset\n",
    "from PIL import Image\n",
    "import os"
   ],
   "metadata": {
    "collapsed": false,
    "ExecuteTime": {
     "end_time": "2024-05-17T03:26:13.375777300Z",
     "start_time": "2024-05-17T03:26:13.350595500Z"
    }
   },
   "id": "f5d7f5fe6efb7417"
  },
  {
   "cell_type": "code",
   "execution_count": 35,
   "outputs": [],
   "source": [
    "class MyData(Dataset):\n",
    "    def __init__(self, root_dir, label_dir):\n",
    "        self.root_dir=root_dir\n",
    "        self.label_dir=label_dir\n",
    "        self.path=os.path.join(root_dir,label_dir)\n",
    "        self.img_path=os.listdir(self.path)\n",
    "        \n",
    "    def __getitem__(self, idx):\n",
    "        img_name=self.img_path[idx]\n",
    "        img_item_path=os.path.join(self.path,img_name)\n",
    "        img=Image.open(img_item_path)\n",
    "        label=self.label_dir\n",
    "        return img, label\n",
    "    def __len__(self):\n",
    "        return len(self.img_path)\n",
    "        \n",
    "        "
   ],
   "metadata": {
    "collapsed": false,
    "ExecuteTime": {
     "end_time": "2024-05-17T03:26:13.376778900Z",
     "start_time": "2024-05-17T03:26:13.354127900Z"
    }
   },
   "id": "e3e003bb1d7985a8"
  },
  {
   "cell_type": "code",
   "execution_count": 36,
   "outputs": [],
   "source": [
    "root_dir=\"hymenoptera_data/train\"\n",
    "ants_label_dir=\"ants\"\n",
    "bees_label_dir=\"bees\"\n",
    "ants_dataset=MyData(root_dir,ants_label_dir)\n",
    "bees_dataset=MyData(root_dir,bees_label_dir)"
   ],
   "metadata": {
    "collapsed": false,
    "ExecuteTime": {
     "end_time": "2024-05-17T03:26:13.376778900Z",
     "start_time": "2024-05-17T03:26:13.361436100Z"
    }
   },
   "id": "c40152ca8c2339fb"
  },
  {
   "cell_type": "code",
   "execution_count": 37,
   "outputs": [
    {
     "name": "stdout",
     "output_type": "stream",
     "text": [
      "ants\n"
     ]
    }
   ],
   "source": [
    "img, label=ants_dataset[0]\n",
    "print(label)\n",
    "img.show()"
   ],
   "metadata": {
    "collapsed": false,
    "ExecuteTime": {
     "end_time": "2024-05-17T03:26:19.011402400Z",
     "start_time": "2024-05-17T03:26:13.370571Z"
    }
   },
   "id": "7d1f2b2d4f6baec8"
  },
  {
   "cell_type": "code",
   "execution_count": 39,
   "outputs": [
    {
     "name": "stdout",
     "output_type": "stream",
     "text": [
      "bees\n"
     ]
    }
   ],
   "source": [
    "img2, label2=bees_dataset[1]\n",
    "print(label2)\n",
    "img2.show()"
   ],
   "metadata": {
    "collapsed": false,
    "ExecuteTime": {
     "end_time": "2024-05-17T03:26:51.445815600Z",
     "start_time": "2024-05-17T03:26:46.019822500Z"
    }
   },
   "id": "d13a1fcb9106b8fd"
  }
 ],
 "metadata": {
  "kernelspec": {
   "display_name": "Python 3",
   "language": "python",
   "name": "python3"
  },
  "language_info": {
   "codemirror_mode": {
    "name": "ipython",
    "version": 2
   },
   "file_extension": ".py",
   "mimetype": "text/x-python",
   "name": "python",
   "nbconvert_exporter": "python",
   "pygments_lexer": "ipython2",
   "version": "2.7.6"
  }
 },
 "nbformat": 4,
 "nbformat_minor": 5
}
